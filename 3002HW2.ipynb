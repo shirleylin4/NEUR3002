{
 "cells": [
  {
   "cell_type": "markdown",
   "metadata": {},
   "source": [
    "# HW 2 Project Part II\n",
    "#### <u>Group 8: Annaston Evers, Juliette Vasquez, Madison Gaines, Mrityunjay Sivakumar, Shirley Lin, Uday Thakar, Victor Irby<u>\n",
    "##### *An <ins>IF model</ins> is also known as an **integrate-and-fire model** that represents a neuron as an electrical circuit.*\n",
    "##### **It depicts how the circuit receives incoming signals over time until a threshold is reached to fire and reset. This is to simulate the production of an action potential in neurons.**\n",
    "[Link to More Info](https://neuronaldynamics.epfl.ch/online/Ch1.S3.html)\n"
   ]
  },
  {
   "cell_type": "code",
   "execution_count": null,
   "metadata": {},
   "outputs": [],
   "source": [
    "import numpy as np\n",
    "import matplotlib.pyplot as plt\n",
    "\n",
    "# Parameters\n",
    "V_rest = -65  # Resting potential (mV)\n",
    "V_th = -55    # Threshold potential (mV)\n",
    "V_reset = V_rest  # Reset potential after firing (mV)\n",
    "tau = 20  # Membrane time constant (ms)\n",
    "R = 10  # Membrane resistance (MΩ)\n",
    "dt = 0.1  # Time step (ms)\n",
    "T = 100  # Total time for the simulation (ms)\n",
    "\n",
    "# Function to simulate the integrate-and-fire model\n",
    "def integrate_and_fire(I_ext, T=100, dt=0.1):\n",
    "    # Initialize time and membrane potential arrays\n",
    "    t = np.arange(0, T, dt)\n",
    "    V = np.full_like(t, V_rest)  # Membrane potential (initially resting potential)\n",
    "\n",
    "    # Iterate over each time step\n",
    "    for i in range(1, len(t)):\n",
    "        # Differential equation for membrane potential\n",
    "        dV = (- (V[i-1] - V_rest) + R * I_ext) * dt / tau\n",
    "        V[i] = V[i-1] + dV\n",
    "\n",
    "        # Check if the potential exceeds the threshold\n",
    "        if V[i] >= V_th:\n",
    "            V[i] = V_reset  # Reset after firing\n",
    "\n",
    "    return t, V\n",
    "\n",
    "# Simulate with different input currents (e.g., 2 levels of input current)\n",
    "I_ext_low = 1.5  # Low input current (nA)\n",
    "I_ext_high = 3.0  # High input current (nA)\n",
    "\n",
    "# Get results for both currents\n",
    "t_low, V_low = integrate_and_fire(I_ext_low)\n",
    "t_high, V_high = integrate_and_fire(I_ext_high)\n",
    "\n",
    "# Plotting the results\n",
    "plt.figure(figsize=(10, 6))\n",
    "\n",
    "# Low current input\n",
    "plt.subplot(2, 1, 1)\n",
    "plt.plot(t_low, V_low, label=f'I_ext = {I_ext_low} nA')\n",
    "plt.axhline(y=V_th, color='r', linestyle='--', label=\"Threshold (-55 mV)\")\n",
    "plt.axhline(y=V_rest, color='g', linestyle='--', label=\"Resting Potential (-65 mV)\")\n",
    "plt.title('Firing Pattern with Low Input Current')\n",
    "plt.xlabel('Time (ms)')\n",
    "plt.ylabel('Membrane Potential (mV)')\n",
    "plt.legend(loc='upper right')\n",
    "\n",
    "# High current input\n",
    "plt.subplot(2, 1, 2)\n",
    "plt.plot(t_high, V_high, label=f'I_ext = {I_ext_high} nA', color='orange')\n",
    "plt.axhline(y=V_th, color='r', linestyle='--', label=\"Threshold (-55 mV)\")\n",
    "plt.axhline(y=V_rest, color='g', linestyle='--', label=\"Resting Potential (-65 mV)\")\n",
    "plt.title('Firing Pattern with High Input Current')\n",
    "plt.xlabel('Time(ms)')\n",
    "plt.ylabel('Membrane Potential(mV)')\n",
    "plt.legend(loc='upper right')\n",
    "\n",
    "plt.tight_layout()\n",
    "plt.show()\n"
   ]
  },
  {
   "cell_type": "markdown",
   "metadata": {},
   "source": [
    "### Visualization of Results\n",
    "The plots below illustrate the firing patterns of a neuron under low and high input current conditions.\n",
    "![IF Model Results](graph.jpg)\n"
   ]
  },
  {
   "cell_type": "markdown",
   "metadata": {},
   "source": [
    "### Question 3\n",
    "**Looking at the above visualization / based on what you know regarding the LIF model -- what aspect of this model is most unlike a real biological neuron? What is missing? Additionally what aspects are like a biological neuron? Compare and Contrast the two.**\n",
    "\nIn terms of aspects missing in this graph, our model is missing a refractory period, action potentials, and leaky channels when compared to a real biological neuron. This model is similar to real neurons in the way that the response to input currents is non-linear voltage changes. Furthermore, there is also a resting membrane potential and appropriate membrane threshold that the neuron reaches to before dropping back to resting."
   ]
  },
  {
   "cell_type": "markdown",
   "metadata": {},
   "source": [
    "### Question 4\n",
    "**What was the most challenging aspect of this homework?**\n",
    "\nThe most challenging aspect of this homework was navigating GitHub, especially importing our image results."
   ]
  },
  {
   "cell_type": "markdown",
   "metadata": {},
   "source": [
    "### Question 5\n",
    "**Estimate how long it took you to complete this homework**\n",
    "\nApproximately 1.5 hours."
   ]
  },  
  {
   "cell_type": "markdown",
   "metadata": {},
   "source": [
    "# HW 3 Project Part III\n",
    "**The <ins>LIF model</ins> builds upon the IF model to introduce leaky ion channels, which allows for a more natural decay in voltage upon reaching threshold, rather than the sharp reset seen with the IF model.**\n",
    "\n**The <ins>HH model</ins> is an even more accurate model of neuron firing, incorporating the voltage-gated sodium and potassium channels instead of a simple spike generator.**"
   ]
  },
  {
   "cell_type": "code",
   "execution_count": null,
   "metadata": {},
   "outputs": [],
   "source": [
       "import numpy as np\n",
       "import matplotlib.pyplot as plt\n",
       "\n",
       "# Hodgkin-Huxley Model Parameters\n",
       "V_rest = -65  # Resting potential (mV)\n",
       "C_m = 1.0  # Membrane capacitance (uF/cm^2)\n",
       "E_Na = 50  # Sodium reversal potential (mV)\n",
       "E_K = -77  # Potassium reversal potential (mV)\n",
       "E_L = -54.4  # Leak reversal potential (mV)\n",
       "G_Na = 120  # Sodium conductance (mS/cm^2)\n",
       "G_K = 36  # Potassium conductance (mS/cm^2)\n",
       "G_L = 0.3  # Leak conductance (mS/cm^2)\n",
       "\n",
       "# Gating Variables (HH Model Activation & Inactivation Functions)\n",
       "def alpha_n(V): return 0.01 * (V + 55) / (1 - np.exp(-(V + 55) / 10))\n",
       "def beta_n(V): return 0.125 * np.exp(-(V + 65) / 80)\n",
       "def alpha_m(V): return 0.1 * (V + 40) / (1 - np.exp(-(V + 40) / 10))\n",
       "def beta_m(V): return 4 * np.exp(-(V + 65) / 18)\n",
       "def alpha_h(V): return 0.07 * np.exp(-(V + 65) / 20)\n",
       "def beta_h(V): return 1 / (1 + np.exp(-(V + 35) / 10))\n",
       "\n",
       "# Hodgkin-Huxley Model Function\n",
       "def hh_model(I_ext, T=250, dt=0.01):\n",
       "    t = np.arange(0, T, dt)\n",
       "    V = np.full_like(t, V_rest)\n",
       "    n = 0.3177  # Initial value from steady state\n",
       "    m = 0.0529\n",
       "    h = 0.5961\n",
       "    I = np.zeros_like(t)\n",
       "    I[5000:15000] = I_ext  # Apply stimulus between 50ms and 150ms\n",
       "    \n",
       "    for i in range(1, len(t)):\n",
       "        # Update gating variables\n",
       "        dn = (alpha_n(V[i-1]) * (1 - n) - beta_n(V[i-1]) * n) * dt\n",
       "        dm = (alpha_m(V[i-1]) * (1 - m) - beta_m(V[i-1]) * m) * dt\n",
       "        dh = (alpha_h(V[i-1]) * (1 - h) - beta_h(V[i-1]) * h) * dt\n",
       "        \n",
       "        n += dn\n",
       "        m += dm\n",
       "        h += dh\n",
       "        \n",
       "        # Compute ionic currents\n",
       "        I_Na = G_Na * m**3 * h * (V[i-1] - E_Na)\n",
       "        I_K = G_K * n**4 * (V[i-1] - E_K)\n",
       "        I_L = G_L * (V[i-1] - E_L)\n",
       "        \n",
       "        # Membrane voltage update\n",
       "        dV = (I[i] - (I_Na + I_K + I_L)) / C_m * dt\n",
       "        V[i] = V[i-1] + dV\n",
       "    \n",
       "    return t, V, I\n",
       "\n",
       "# Simulating HH model with different input currents\n",
       "I_ext1 = 5.0  # Lower external current (not enough to trigger multiple spikes)\n",
       "I_ext2 = 15.0  # Stronger burst input\n",
       "\n",
       "t_hh1, V_hh1, I_hh1 = hh_model(I_ext1)\n",
       "t_hh2, V_hh2, I_hh2 = hh_model(I_ext2)\n",
       "\n",
       "# Plot Results\n",
       "plt.figure(figsize=(10, 6))\n",
       "\n",
       "# HH Model Membrane Potential for different inputs\n",
       "plt.subplot(2, 1, 1)\n",
       "plt.plot(t_hh1, V_hh1, label='Lower Input (5 uA/cm^2)', color='blue')\n",
       "plt.plot(t_hh2, V_hh2, label='Burst Input (15 uA/cm^2)', color='orange')\n",
       "plt.axhline(y=-55, color='r', linestyle='--', label=\"Threshold (-55 mV)\")\n",
       "plt.axhline(y=V_rest, color='g', linestyle='--', label=\"Resting Potential (-65 mV)\")\n",
       "plt.title('Hodgkin-Huxley Model with Different Inputs')\n",
       "plt.xlabel('Simulation Time (milliseconds)')\n",
       "plt.ylabel('Membrane Potential (mV)')\n",
       "plt.legend()\n",
       "\n",
       "# Stimulus Current Plot\n",
       "plt.subplot(2, 1, 2)\n",
       "plt.plot(t_hh1, I_hh1, label='Lower Input', color='blue', linestyle='--')\n",
       "plt.plot(t_hh2, I_hh2, label='Burst Input', color='orange', linestyle='--')\n",
       "plt.xlabel('Simulation Time (milliseconds)')\n",
       "plt.ylabel('Stimulus (uA/cm^2)')\n",
       "plt.legend()\n",
       "\n",
       "plt.tight_layout()\n",
       "plt.show()\n",
       "\n",
       "# Explanation of Changes\n",
       "print(\"\\nExplanation:\")\n",
       "print(\"- The input current was modified from 10 uA/cm^2 to 5 uA/cm^2 (lower input) and 15 uA/cm^2 (burst input).\")\n",
       "print(\"- The lower input did not reach the threshold enough times to trigger repeated spikes, leading to fewer action potentials.\")\n",
       "print(\"- The burst input provided a stronger stimulus, causing more frequent and sustained spikes, mimicking real neuronal burst firing.\")\n"
   ]
},
 {
   "cell_type": "markdown",
   "metadata": {},
   "source": [
    "### Visualization of Differing Inputs\n",
    "The plots below illustrate the firing patterns if the inputs given differ.\n",
    "![HH Model Results](Screen Shot 2025-02-03 at 6.42.32 PM.png)\n"
   ]
  },
{
   "cell_type": "markdown",
   "metadata": {},
   "source": [
    "### Discussion Questions\n",
    "**What changes had to be made to the model and why?**\n",
    "\nanswer here."
]
},
{
   "cell_type": "markdown",
   "metadata": {},
   "source": [
    "**How did you and/or ChatGPT implement the changes?**\n",
    "\nanswer here."
]
},
{
   "cell_type": "markdown",
   "metadata": {},
   "source": [
    "**Define 'bits' and Shannon's entropy with relation to information theory. Which model contains the most bits? Which model has the highest Shannon's entropy? Explain your answer.**\n",
   "\nBits is a unit of measure that predicts uncertainty and it quantifies the amount of information where 1 bit is equivalent to a unit of information. In relation to information theory a bit quantifies the information that is stored. Shannon's entropy is the amount of uncertainty that is involved when generating random variables. In relation to information theory, this describes the amount of uncertainty or unpredictability in neural processes to compare information amounts. The HH model has the most bits because it has more variables with its ion channels which uses more bits. The HH model has the highest Shannon's entropy because there are more variables and more unpredictable behavior."
   ]
  }
],


 "metadata": {
  "kernelspec": {
   "display_name": "Python 3 (ipykernel)",
   "language": "python",
   "name": "python3"
  },
  "language_info": {
   "name": "python",
   "version": "3.9.13",
   "mimetype": "text/x-python",
   "codemirror_mode": {
    "name": "ipython",
    "version": 3
   },
   "file_extension": ".py",
   "nbconvert_exporter": "python",
   "pygments_lexer": "ipython3"
  }
 },
 "nbformat": 4,
 "nbformat_minor": 5
}

