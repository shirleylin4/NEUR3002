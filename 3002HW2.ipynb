{
 "cells": [
  {
   "cell_type": "markdown",
   "metadata": {},
   "source": [
    "# HW 2 Project Part II\n",
    "#### <u>Group 8: Annaston Evers, Juliette Vasquez, Madison Gaines, Mrityunjay Sivakumar, Shirley Lin, Uday Thakar, Victor Irby<u>\n",
    "##### *An <ins>IF model</ins> is also known as an **integrate-and-fire model** that represents a neuron as an electrical circuit.*\n",
    "##### **It depicts how the circuit receives incoming signals over time until a threshold is reached to fire and reset. This is to simulate the production of an action potential in neurons.**\n",
    "[Link to More Info](https://neuronaldynamics.epfl.ch/online/Ch1.S3.html)\n"
   ]
  },
  {
   "cell_type": "code",
   "execution_count": null,
   "metadata": {},
   "outputs": [],
   "source": [
    "import numpy as np\n",
    "import matplotlib.pyplot as plt\n",
    "\n",
    "# Parameters\n",
    "V_rest = -65  # Resting potential (mV)\n",
    "V_th = -55    # Threshold potential (mV)\n",
    "V_reset = V_rest  # Reset potential after firing (mV)\n",
    "tau = 20  # Membrane time constant (ms)\n",
    "R = 10  # Membrane resistance (MΩ)\n",
    "dt = 0.1  # Time step (ms)\n",
    "T = 100  # Total time for the simulation (ms)\n",
    "\n",
    "# Function to simulate the integrate-and-fire model\n",
    "def integrate_and_fire(I_ext, T=100, dt=0.1):\n",
    "    # Initialize time and membrane potential arrays\n",
    "    t = np.arange(0, T, dt)\n",
    "    V = np.full_like(t, V_rest)  # Membrane potential (initially resting potential)\n",
    "\n",
    "    # Iterate over each time step\n",
    "    for i in range(1, len(t)):\n",
    "        # Differential equation for membrane potential\n",
    "        dV = (- (V[i-1] - V_rest) + R * I_ext) * dt / tau\n",
    "        V[i] = V[i-1] + dV\n",
    "\n",
    "        # Check if the potential exceeds the threshold\n",
    "        if V[i] >= V_th:\n",
    "            V[i] = V_reset  # Reset after firing\n",
    "\n",
    "    return t, V\n",
    "\n",
    "# Simulate with different input currents (e.g., 2 levels of input current)\n",
    "I_ext_low = 1.5  # Low input current (nA)\n",
    "I_ext_high = 3.0  # High input current (nA)\n",
    "\n",
    "# Get results for both currents\n",
    "t_low, V_low = integrate_and_fire(I_ext_low)\n",
    "t_high, V_high = integrate_and_fire(I_ext_high)\n",
    "\n",
    "# Plotting the results\n",
    "plt.figure(figsize=(10, 6))\n",
    "\n",
    "# Low current input\n",
    "plt.subplot(2, 1, 1)\n",
    "plt.plot(t_low, V_low, label=f'I_ext = {I_ext_low} nA')\n",
    "plt.axhline(y=V_th, color='r', linestyle='--', label=\"Threshold (-55 mV)\")\n",
    "plt.axhline(y=V_rest, color='g', linestyle='--', label=\"Resting Potential (-65 mV)\")\n",
    "plt.title('Firing Pattern with Low Input Current')\n",
    "plt.xlabel('Time (ms)')\n",
    "plt.ylabel('Membrane Potential (mV)')\n",
    "plt.legend(loc='upper right')\n",
    "\n",
    "# High current input\n",
    "plt.subplot(2, 1, 2)\n",
    "plt.plot(t_high, V_high, label=f'I_ext = {I_ext_high} nA', color='orange')\n",
    "plt.axhline(y=V_th, color='r', linestyle='--', label=\"Threshold (-55 mV)\")\n",
    "plt.axhline(y=V_rest, color='g', linestyle='--', label=\"Resting Potential (-65 mV)\")\n",
    "plt.title('Firing Pattern with High Input Current')\n",
    "plt.xlabel('Time(ms)')\n",
    "plt.ylabel('Membrane Potential(mV)')\n",
    "plt.legend(loc='upper right')\n",
    "\n",
    "plt.tight_layout()\n",
    "plt.show()\n"
   ]
  },
  {
   "cell_type": "markdown",
   "metadata": {},
   "source": [
    "### Visualization of Results\n",
    "The plots below illustrate the firing patterns of a neuron under low and high input current conditions.\n",
    "![IF Model Results](graph.jpg)\n"
   ]
  },
  {
   "cell_type": "markdown",
   "metadata": {},
   "source": [
    "### Question 3\n",
    "**Looking at the above visualization / based on what you know regarding the LIF model -- what aspect of this model is most unlike a real biological neuron? What is missing? Additionally what aspects are like a biological neuron? Compare and Contrast the two.**\n",
    "\nIn terms of aspects missing in this graph, our model is missing a refractory period, action potentials, and leaky channels when compared to a real biological neuron. This model is similar to real neurons in the way that the response to input currents is non-linear voltage changes. Furthermore, there is also a resting membrane potential and appropriate membrane threshold that the neuron reaches to before dropping back to resting."
   ]
  },
  {
   "cell_type": "markdown",
   "metadata": {},
   "source": [
    "### Question 4\n",
    "**What was the most challenging aspect of this homework?**\n",
    "\nThe most challenging aspect of this homework was navigating GitHub, especially importing our image results."
   ]
  },
  {
   "cell_type": "markdown",
   "metadata": {},
   "source": [
    "### Question 5\n",
    "**Estimate how long it took you to complete this homework**\n",
    "\nApproximately 1.5 hours."
   ]
  },  
  {
   "cell_type": "markdown",
   "metadata": {},
   "source": [
    "### HW 3 Project Part III\n",
    "**Briefly define the LIF and HH models**\n",
    "\nanswer here."
   ]
  },
  {
   "cell_type": "code",
   "execution_count": null,
   "metadata": {},
   "outputs": [],
   "source": []
},
 {
   "cell_type": "markdown",
   "metadata": {},
   "source": [
    "### Visualization of Differing Inputs\n",
    "The plots below illustrate the firing patterns if the inputs given differ.\n",
    "insert image\n"
   ]
  },
{
   "cell_type": "markdown",
   "metadata": {},
   "source": [
    "### Discussion Questions\n",
    "**What changes had to be made to the model and why?**\n",
    "\nanswer here."
]
},
{
   "cell_type": "markdown",
   "metadata": {},
   "source": [
    "**How did you and/or ChatGPT implement the changes?**\n",
    "\nanswer here."
]
},
{
   "cell_type": "markdown",
   "metadata": {},
   "source": [
    "**Define 'bits' and Shannon's entropy with relation to information theory. Which model contains the most bits? Which model has the highest Shannon's entropy? Explain your answer.**\n",
   "\nanswer here."
   ]
  }
],


 "metadata": {
  "kernelspec": {
   "display_name": "Python 3 (ipykernel)",
   "language": "python",
   "name": "python3"
  },
  "language_info": {
   "name": "python",
   "version": "3.9.13",
   "mimetype": "text/x-python",
   "codemirror_mode": {
    "name": "ipython",
    "version": 3
   },
   "file_extension": ".py",
   "nbconvert_exporter": "python",
   "pygments_lexer": "ipython3"
  }
 },
 "nbformat": 4,
 "nbformat_minor": 5
}
{
   "cell_type": "code",
   "execution_count": null,
   "metadata": {},
   "outputs": [],
   "source": [
    "import numpy as np\n",
    "import matplotlib.pyplot as plt\n",
    "\n",
    "# Constants\n",
    "gNa = 120.0  # Maximum conductance of Na (mS/cm^2)\n",
    "gK = 36.0     # Maximum conductance of K (mS/cm^2)\n",
    "gL = 0.3      # Leak conductance (mS/cm^2)\n",
    "ENa = 50.0    # Reversal potential of Na (mV)\n",
    "EK = -77.0    # Reversal potential of K (mV)\n",
    "EL = -54.4    # Reversal potential of leak channel (mV)\n",
    "Cm = 1.0      # Membrane capacitance (uF/cm^2)\n",
    "\n",
    "# Time parameters\n",
    "dt = 0.01     # Time step (ms)\n",
    "tmax = 50     # Max time (ms)\n",
    "time = np.arange(0, tmax, dt)\n",
    "\n",
    "# External current stimulus\n",
    "I_ext = np.zeros_like(time)\n",
    "I_ext[1000:2000] = 10  # Apply a pulse of current from 10 to 20 ms\n",
    "\n",
    "# Functions for gating variables\n",
    "def alpha_m(V): return 0.1 * (V + 40) / (1 - np.exp(-(V + 40) / 10))\n",
    "def beta_m(V): return 4.0 * np.exp(-0.0556 * (V + 65))\n",
    "def alpha_h(V): return 0.07 * np.exp(-0.05 * (V + 65))\n",
    "def beta_h(V): return 1 / (1 + np.exp(-(V + 35) / 10))\n",
    "def alpha_n(V): return 0.01 * (V + 55) / (1 - np.exp(-(V + 55) / 10))\n",
    "def beta_n(V): return 0.125 * np.exp(-(V + 65) / 80)\n",
    "\n",
    "# Initial conditions\n",
    "V = -65.0  # Resting membrane potential\n",
    "m = alpha_m(V) / (alpha_m(V) + beta_m(V))\n",
    "h = alpha_h(V) / (alpha_h(V) + beta_h(V))\n",
    "n = alpha_n(V) / (alpha_n(V) + beta_n(V))\n",
    "\n",
    "# Arrays to store results\n",
    "V_trace = []\n",
    "\n",
    "# Time stepping loop\n",
    "for t in time:\n",
    "    # Compute conductances\n",
    "    gNa_t = gNa * (m**3) * h\n",
    "    gK_t = gK * (n**4)\n",
    "    gL_t = gL\n",
    "    \n",
    "    # Compute currents\n",
    "    INa = gNa_t * (V - ENa)\n",
    "    IK = gK_t * (V - EK)\n",
    "    IL = gL_t * (V - EL)\n",
    "    \n",
    "    # Update voltage\n",
    "    V += dt * (I_ext[int(t / dt)] - (INa + IK + IL)) / Cm\n",
    "    \n",
    "    # Update gating variables\n",
    "    m += dt * (alpha_m(V) * (1 - m) - beta_m(V) * m)\n",
    "    h += dt * (alpha_h(V) * (1 - h) - beta_h(V) * h)\n",
    "    n += dt * (alpha_n(V) * (1 - n) - beta_n(V) * n)\n",
    "    \n",
    "    # Store results\n",
    "    V_trace.append(V)\n",
    "\n",
    "# Plot results\n",
    "plt.figure(figsize=(10, 5))\n",
    "plt.plot(time, V_trace, label='Membrane Potential (mV)')\n",
    "plt.xlabel('Time (ms)')\n",
    "plt.ylabel('Membrane Potential (mV)')\n",
    "plt.title('Hodgkin-Huxley Model Simulation')\n",
    "plt.legend()\n",
    "plt.grid()\n",
    "plt.show()\n"
   ]
}
