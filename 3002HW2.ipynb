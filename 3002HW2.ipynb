{
 "cells": [
  {
   "cell_type": "markdown",
   "id": "328ab5e0-4b26-4d7c-9a0a-49142e8f7ead",
   "metadata": {},
   "source": [
    "# HW 2 Project Part II\n",
    "#### <u>Group 8: Annaston Evers, Juliette Vasquez, Madison Gaines, Mrityunjay Sivakumar, Shirley Lin, Uday Thaker, Victor Irby<u>\n",
    "##### *An <ins>IF model</ins> is also known as an **integrate-and-fire model** that represents a neuron as an electrical circuit.*\n",
    "##### **It depicts how the circuit receives incoming signals overtime until a threshold is reached to fire and reset. This is to simulate the production of an action potential in neurons.** \n [Link to More Info](https://neuronaldynamics.epfl.ch/online/Ch1.S3.html)\n"
   ]
  },
  {
   "cell_type": "code",
   "execution_count": null,
   "id": "23712737-842e-4d71-a4e3-e93d997e1a56",
   "metadata": {},
   "outputs": [],
   "source": []
  },
  {
   "cell_type": "markdown",
   "id": "fd2905f0-0871-46f3-a9bd-41a877843c07",
   "metadata": {},
   "source": []
  },
  {
   "cell_type": "code",
   "execution_count": null,
   "id": "311f7331-d120-42c7-a5b2-bad0de36e498",
   "metadata": {},
   "outputs": [],
   "source": []
  }
 ],
 "metadata": {
  "kernelspec": {
   "display_name": "Python 3 (ipykernel)",
   "language": "python",
   "name": "python3"
  },
  "language_info": {
   "codemirror_mode": {
    "name": "ipython",
    "version": 3
   },
   "file_extension": ".py",
   "mimetype": "text/x-python",
   "name": "python",
   "nbconvert_exporter": "python",
   "pygments_lexer": "ipython3",
   "version": "3.9.13"
  }
 },
 "nbformat": 4,
 "nbformat_minor": 5
}

import numpy as np
import matplotlib.pyplot as plt

# Parameters
V_rest = -65  # Resting potential (mV)
V_th = -55    # Threshold potential (mV)
V_reset = V_rest  # Reset potential after firing (mV)
tau = 20  # Membrane time constant (ms)
R = 10  # Membrane resistance (MΩ)
dt = 0.1  # Time step (ms)
T = 100  # Total time for the simulation (ms)

# Function to simulate the integrate-and-fire model
def integrate_and_fire(I_ext, T=100, dt=0.1):
    # Initialize time and membrane potential arrays
    t = np.arange(0, T, dt)
    V = np.full_like(t, V_rest)  # Membrane potential (initially resting potential)

    # Iterate over each time step
    for i in range(1, len(t)):
        # Differential equation for membrane potential
        dV = (- (V[i-1] - V_rest) + R * I_ext) * dt / tau
        V[i] = V[i-1] + dV

        # Check if the potential exceeds the threshold
        if V[i] >= V_th:
            V[i] = V_reset  # Reset after firing

    return t, V

# Simulate with different input currents (e.g., 2 levels of input current)
I_ext_low = 1.5  # Low input current (nA)
I_ext_high = 3.0  # High input current (nA)

# Get results for both currents
t_low, V_low = integrate_and_fire(I_ext_low)
t_high, V_high = integrate_and_fire(I_ext_high)

# Plotting the results
plt.figure(figsize=(10, 6))

# Low current input
plt.subplot(2, 1, 1)
plt.plot(t_low, V_low, label=f'I_ext = {I_ext_low} nA')
plt.axhline(y=V_th, color='r', linestyle='--', label="Threshold (-55 mV)")
plt.axhline(y=V_rest, color='g', linestyle='--', label="Resting Potential (-65 mV)")
plt.title('Firing Pattern with Low Input Current')
plt.xlabel('Time (ms)')
plt.ylabel('Membrane Potential (mV)')
plt.legend(loc='upper right')

# High current input
plt.subplot(2, 1, 2)
plt.plot(t_high, V_high, label=f'I_ext = {I_ext_high} nA', color='orange')
plt.axhline(y=V_th, color='r', linestyle='--', label="Threshold (-55 mV)")
plt.axhline(y=V_rest, color='g', linestyle='--', label="Resting Potential (-65 mV)")
plt.title('Firing Pattern with High Input Current')
plt.xlabel('Time(ms)')
plt.ylabel('Membrane Potential(mV)')
plt.legend(loc='upper right')

plt.tight_layout()
plt.show()
